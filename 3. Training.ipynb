{
 "cells": [
  {
   "cell_type": "markdown",
   "metadata": {},
   "source": [
    "# Import Libraries"
   ]
  },
  {
   "cell_type": "code",
   "execution_count": 1,
   "metadata": {},
   "outputs": [],
   "source": [
    "import numpy as np\n",
    "import pandas as pd\n",
    "from sklearn.ensemble import RandomForestClassifier\n",
    "from sklearn import datasets\n",
    "from sklearn.model_selection import train_test_split\n",
    "from sklearn.feature_selection import SelectFromModel\n",
    "from sklearn.metrics import accuracy_score\n",
    "from sklearn.preprocessing import Imputer,LabelEncoder,StandardScaler\n",
    "from sklearn.model_selection import cross_val_score\n",
    "from sklearn.linear_model import LogisticRegression\n",
    "from sklearn.discriminant_analysis import LinearDiscriminantAnalysis,QuadraticDiscriminantAnalysis\n",
    "from sklearn.decomposition import PCA\n",
    "from sklearn.neighbors import LocalOutlierFactor\n",
    "from sklearn.model_selection import KFold\n",
    "from sklearn.svm import NuSVC\n",
    "import matplotlib.pyplot as plt\n",
    "from sklearn.ensemble import AdaBoostClassifier\n",
    "from sklearn.naive_bayes import GaussianNB\n",
    "from imblearn.over_sampling import SMOTE, ADASYN\n",
    "from sklearn.metrics import roc_curve\n",
    "from sklearn.externals import joblib\n",
    "\n",
    "\n",
    "%matplotlib inline "
   ]
  },
  {
   "cell_type": "markdown",
   "metadata": {},
   "source": [
    "# Load the Trainind data in Pandas dataframe"
   ]
  },
  {
   "cell_type": "code",
   "execution_count": 2,
   "metadata": {},
   "outputs": [],
   "source": [
    "training_dataframe = pd.read_csv(\"./data/cleaned_training_data.csv\")"
   ]
  },
  {
   "cell_type": "code",
   "execution_count": 3,
   "metadata": {},
   "outputs": [],
   "source": [
    "training_data_matrix = training_dataframe.as_matrix()\n",
    "feature_names = training_dataframe.columns[:-1]\n",
    "\n",
    "\n",
    "X_train = training_data_matrix[:,:-1]\n",
    "y_train = training_data_matrix[:,-1]"
   ]
  },
  {
   "cell_type": "code",
   "execution_count": 4,
   "metadata": {},
   "outputs": [
    {
     "data": {
      "text/plain": [
       "219"
      ]
     },
     "execution_count": 4,
     "metadata": {},
     "output_type": "execute_result"
    }
   ],
   "source": [
    "len(X_train[0])"
   ]
  },
  {
   "cell_type": "markdown",
   "metadata": {},
   "source": [
    "# Definer the Transformer functions"
   ]
  },
  {
   "cell_type": "code",
   "execution_count": 5,
   "metadata": {},
   "outputs": [],
   "source": [
    "def impute_missing_data(X):\n",
    "    imp = Imputer(missing_values=np.nan,strategy='mean',axis=0,verbose=1)\n",
    "    imp.fit(X)\n",
    "    X_imputed = imp.transform(X)\n",
    "    return X_imputed,imp\n",
    "\n",
    "def encode_decision(y):\n",
    "    encoder= LabelEncoder()\n",
    "    encoder.fit(y)\n",
    "    y_encoded=encoder.transform(y)\n",
    "    return y_encoded,encoder\n",
    "\n",
    "def standardize_data(X):\n",
    "    scaler = StandardScaler()\n",
    "    scaler.fit(X)\n",
    "    X_standardized = scaler.transform(X)\n",
    "    return X_standardized,scaler\n",
    "\n",
    "def remove_outliers(X,y):\n",
    "    print(\"Number of records before removing outliers \",X.shape[0])\n",
    "    lof = LocalOutlierFactor(n_neighbors=20,n_jobs=-1)\n",
    "    non_outlier_indices = lof.fit_predict(X)==1\n",
    "    X_inlier = X[non_outlier_indices]\n",
    "    y_inlier = y[non_outlier_indices]\n",
    "    print(\"Number of records after removing outliers \",X_inlier.shape[0])\n",
    "    return X_inlier,y_inlier\n",
    "\n",
    "def create_orthogonal_matrix(X):\n",
    "    pca = PCA(n_components=60,random_state=0)\n",
    "    X_orthogonal = pca.fit_transform(X)\n",
    "    print(\"Number of attributes before PCA \",X.shape[1])\n",
    "    print(\"Number of attributes after PCA \",X_orthogonal.shape[1])\n",
    "    return X_orthogonal,pca\n",
    "\n",
    "def select_features(X,y):\n",
    "    clf = RandomForestClassifier(n_estimators=1000, random_state=0, n_jobs=-1)\n",
    "    sfm = SelectFromModel(clf,threshold='mean')\n",
    "    sfm.fit(X, y)\n",
    "    X_important = sfm.transform(X)\n",
    "    print(X_important.shape[1],\" attributes are selected out of \",X.shape[1],\" attributes by RF\")\n",
    "    return X_important,sfm\n",
    "\n",
    "def over_sample_smote(X,y):\n",
    "    smote = SMOTE(random_state=0,n_jobs=-1)\n",
    "    smote.fit(X,y)\n",
    "    X_resampled, y_resampled = smote.sample(X, y)\n",
    "    print(\"Number of records before SMOTE sampling \",X.shape[0])\n",
    "    print(\"Number of records after SMOTE sampling \",X_resampled.shape[0])\n",
    "    return X_resampled,y_resampled"
   ]
  },
  {
   "cell_type": "markdown",
   "metadata": {},
   "source": [
    "# Define the Random Forest Classifier"
   ]
  },
  {
   "cell_type": "code",
   "execution_count": 6,
   "metadata": {},
   "outputs": [],
   "source": [
    "clf_RF = RandomForestClassifier(n_estimators=1000, random_state=0, n_jobs=-1)"
   ]
  },
  {
   "cell_type": "markdown",
   "metadata": {},
   "source": [
    "# Apply all the transformations one by one"
   ]
  },
  {
   "cell_type": "code",
   "execution_count": 7,
   "metadata": {},
   "outputs": [
    {
     "name": "stdout",
     "output_type": "stream",
     "text": [
      "Number of records before SMOTE sampling  3703\n",
      "Number of records after SMOTE sampling  6480\n",
      "Number of records before removing outliers  6480\n",
      "Number of records after removing outliers  5832\n",
      "Number of attributes before PCA  219\n",
      "Number of attributes after PCA  60\n",
      "20  attributes are selected out of  60  attributes by RF\n"
     ]
    }
   ],
   "source": [
    "X = np.array(X_train)\n",
    "y = np.array(y_train)\n",
    "X,imputer = impute_missing_data(X)\n",
    "X,y = over_sample_smote(X,y)\n",
    "y,encoder = encode_decision(y)\n",
    "X,scaler = standardize_data(X)\n",
    "X,y = remove_outliers(X,y)\n",
    "X,pca = create_orthogonal_matrix(X)\n",
    "X,sfm = select_features(X,y)"
   ]
  },
  {
   "cell_type": "markdown",
   "metadata": {},
   "source": [
    "# Fit the Model"
   ]
  },
  {
   "cell_type": "code",
   "execution_count": 8,
   "metadata": {},
   "outputs": [
    {
     "data": {
      "text/plain": [
       "RandomForestClassifier(bootstrap=True, class_weight=None, criterion='gini',\n",
       "            max_depth=None, max_features='auto', max_leaf_nodes=None,\n",
       "            min_impurity_decrease=0.0, min_impurity_split=None,\n",
       "            min_samples_leaf=1, min_samples_split=2,\n",
       "            min_weight_fraction_leaf=0.0, n_estimators=1000, n_jobs=-1,\n",
       "            oob_score=False, random_state=0, verbose=0, warm_start=False)"
      ]
     },
     "execution_count": 8,
     "metadata": {},
     "output_type": "execute_result"
    }
   ],
   "source": [
    "clf_RF.fit(X,y)"
   ]
  },
  {
   "cell_type": "markdown",
   "metadata": {},
   "source": [
    "# Save Imputer, LabelEncoder,StandardScaler, PCA, SFM and The RandomForest Model"
   ]
  },
  {
   "cell_type": "code",
   "execution_count": 9,
   "metadata": {},
   "outputs": [
    {
     "data": {
      "text/plain": [
       "['./data/model/rf.pkl']"
      ]
     },
     "execution_count": 9,
     "metadata": {},
     "output_type": "execute_result"
    }
   ],
   "source": [
    "joblib.dump(imputer,'./data/model/imputer.pkl')\n",
    "joblib.dump(encoder,'./data/model/encoder.pkl')\n",
    "joblib.dump(scaler,'./data/model/scaler.pkl')\n",
    "joblib.dump(pca,'./data/model/pca.pkl')\n",
    "joblib.dump(sfm,'./data/model/sfm.pkl')\n",
    "joblib.dump(clf_RF, './data/model/rf.pkl') "
   ]
  },
  {
   "cell_type": "code",
   "execution_count": null,
   "metadata": {},
   "outputs": [],
   "source": []
  }
 ],
 "metadata": {
  "kernelspec": {
   "display_name": "Python 3",
   "language": "python",
   "name": "python3"
  },
  "language_info": {
   "codemirror_mode": {
    "name": "ipython",
    "version": 3
   },
   "file_extension": ".py",
   "mimetype": "text/x-python",
   "name": "python",
   "nbconvert_exporter": "python",
   "pygments_lexer": "ipython3",
   "version": "3.6.2"
  }
 },
 "nbformat": 4,
 "nbformat_minor": 2
}
